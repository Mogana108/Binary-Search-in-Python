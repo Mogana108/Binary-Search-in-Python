{
  "nbformat": 4,
  "nbformat_minor": 0,
  "metadata": {
    "colab": {
      "name": "Untitled12.ipynb",
      "provenance": []
    },
    "kernelspec": {
      "name": "python3",
      "display_name": "Python 3"
    },
    "language_info": {
      "name": "python"
    }
  },
  "cells": [
    {
      "cell_type": "code",
      "execution_count": null,
      "metadata": {
        "id": "0w7AMwI7ZzDY"
      },
      "outputs": [],
      "source": [
        "def binary_search(list1, n):  \n",
        "    low = 0  \n",
        "    high = len(list1) - 1  \n",
        "    mid = 0  \n",
        "  \n",
        "    while low <= high:  \n",
        "        # for get integer result   \n",
        "        mid = (high + low) // 2  \n",
        "  \n",
        "        # Check if n is present at mid   \n",
        "        if list1[mid] < n:  \n",
        "            low = mid + 1  \n",
        "  \n",
        "        # If n is greater, compare to the right of mid   \n",
        "        elif list1[mid] > n:  \n",
        "            high = mid - 1  \n",
        "  \n",
        "        # If n is smaller, compared to the left of mid  \n",
        "        else:  \n",
        "            return mid  \n",
        "  \n",
        "            # element was not present in the list, return -1  \n",
        "    return -1  \n",
        "  \n",
        "  \n",
        "# Initial list1  \n",
        "list1 = [12, 24, 32, 39, 45, 50, 54]  \n",
        "n = 45  \n",
        "  \n",
        "# Function call   \n",
        "result = binary_search(list1, n)  \n",
        "  \n",
        "if result != -1:  \n",
        "    print(\"Element is present at index\", str(result))  \n",
        "else:  \n",
        "    print(\"Element is not present in list1\")  "
      ]
    }
  ]
}